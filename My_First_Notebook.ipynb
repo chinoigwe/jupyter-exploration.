{
 "cells": [
  {
   "cell_type": "code",
   "execution_count": null,
   "id": "51d97d0f",
   "metadata": {},
   "outputs": [],
   "source": [
    "explanation of the cpncepts of cells in jupyter notebook:\n",
    "code cells are used for writing and executing codes\n",
    "they run and display output below the cell\n",
    "it shows In [ ]: to indicate its ready for code input\n",
    "markdown cells are used for formatted text, explanation, and documentation\n",
    "it supports markdown syntax for easy text formatting\n",
    "it displays formatted text when the cell is run\n",
    "ther is no In [ ]:, it just contains formatted text\n"
   ]
  },
  {
   "cell_type": "code",
   "execution_count": 1,
   "id": "06065840",
   "metadata": {},
   "outputs": [
    {
     "name": "stdout",
     "output_type": "stream",
     "text": [
      "Hello, World!\n"
     ]
    }
   ],
   "source": [
    "print(\"Hello, World!\")"
   ]
  },
  {
   "cell_type": "code",
   "execution_count": 4,
   "id": "ee733443",
   "metadata": {},
   "outputs": [
    {
     "name": "stdout",
     "output_type": "stream",
     "text": [
      "My first markdown cell in Jupyter\n"
     ]
    }
   ],
   "source": [
    "print (\"My first markdown cell in Jupyter\")"
   ]
  },
  {
   "cell_type": "code",
   "execution_count": null,
   "id": "eb28ebef",
   "metadata": {},
   "outputs": [],
   "source": []
  }
 ],
 "metadata": {
  "kernelspec": {
   "display_name": "Python 3 (ipykernel)",
   "language": "python",
   "name": "python3"
  },
  "language_info": {
   "codemirror_mode": {
    "name": "ipython",
    "version": 3
   },
   "file_extension": ".py",
   "mimetype": "text/x-python",
   "name": "python",
   "nbconvert_exporter": "python",
   "pygments_lexer": "ipython3",
   "version": "3.11.5"
  }
 },
 "nbformat": 4,
 "nbformat_minor": 5
}
